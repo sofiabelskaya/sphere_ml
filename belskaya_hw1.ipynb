{
 "cells": [
  {
   "cell_type": "markdown",
   "metadata": {},
   "source": [
    "**Общая информация**\n",
    "\n",
    "**Срок сдачи:** 21 октября 2020, 08:30 \n",
    "\n",
    "**Штраф за опоздание:** по 1 баллу за 24 часа задержки. Через 5 дней домашнее задание сгорает.\n",
    "\n",
    "При отправлении ДЗ указывайте фамилию в названии файла\n",
    "Присылать ДЗ необходимо в виде ссылки на свой github репозиторий на почту ml1.sphere@mail.ru с указанием темы в следующем формате:\n",
    "\n",
    "[ML0220, Задание 1] Фамилия Имя.\n",
    "\n",
    "Используйте данный Ipython Notebook при оформлении домашнего задания."
   ]
  },
  {
   "cell_type": "markdown",
   "metadata": {},
   "source": [
    "\n",
    "**Штрафные баллы:**\n",
    "\n",
    "1. Отсутствие фамилии в имени скрипта (скрипт должен называться по аналогии со stroykova_hw1.ipynb) -0.5 баллов\n",
    "2. Все строчки должны быть выполнены. Нужно, чтобы output команды можно было увидеть уже в git'е. В противном случае -0.5 баллов\n"
   ]
  },
  {
   "cell_type": "code",
   "execution_count": 1,
   "metadata": {},
   "outputs": [],
   "source": [
    "import numpy as np\n",
    "import matplotlib.pyplot as plt\n",
    "\n",
    "import seaborn as sns\n",
    "from sklearn import datasets\n",
    "from sklearn.base import BaseEstimator\n",
    "from sklearn.datasets import fetch_mldata, fetch_20newsgroups\n",
    "\n",
    "from sklearn.model_selection import train_test_split\n",
    "from sklearn.neighbors import KNeighborsClassifier\n",
    "from sklearn.metrics import accuracy_score\n",
    "from sklearn.neighbors import KDTree\n",
    "from sklearn import preprocessing #для стандартизации"
   ]
  },
  {
   "cell_type": "markdown",
   "metadata": {},
   "source": [
    "##### Задание 1 (1 балл)\n",
    "Реализовать KNN в классе MyKNeighborsClassifier (обязательное условие: точность не ниже sklearn реализации)\n",
    "Разберитесь самостоятельно, какая мера расстояния используется в KNeighborsClassifier дефолтно и реализуйте свой алгоритм именно с этой мерой. \n",
    "Для подсчета расстояний можно использовать функции [отсюда](https://docs.scipy.org/doc/scipy/reference/spatial.distance.html)"
   ]
  },
  {
   "cell_type": "code",
   "execution_count": 2,
   "metadata": {},
   "outputs": [],
   "source": [
    "\n",
    "    \n",
    "class MyKNeighborsClassifier(BaseEstimator):\n",
    "    \n",
    "    def __init__(self, n_neighbors, algorithm):\n",
    "        self.n = n_neighbors\n",
    "        self.alg = algorithm\n",
    "    \n",
    "    def fit(self, X, y):\n",
    "        self.X_train = X\n",
    "        self.scaler = preprocessing.StandardScaler().fit(self.X_train) \n",
    "        self.X_train_st = self.scaler.transform(self.X_train)\n",
    "        self.y_train = y\n",
    "        self.min_length = np.unique(self.y_train)[-1]+1\n",
    "        \n",
    "    def predict(self, X):\n",
    "        self.X_test = X\n",
    "        self.X_test_st = self.scaler.transform(self.X_test)\n",
    "        self.y_pred = np.zeros(self.X_test_st.shape[0],dtype='int64')\n",
    "        if(self.alg == 'brute'):\n",
    "            for i in range(self.X_test_st.shape[0]):\n",
    "                a = self.X_train_st - self.X_test_st[i,:]\n",
    "                dist = np.linalg.norm(a, axis=1)\n",
    "                ind = np.argsort(dist)[:self.n]\n",
    "                self.y_pred[i] = np.argmax(np.bincount(self.y_train[ind],minlength = self.min_length))\n",
    "        else:\n",
    "                self.KDTree = KDTree(self.X_train_st)\n",
    "                dist, ind = self.KDTree.query(self.X_test_st, k=self.n)\n",
    "                self.y_pred = np.argmax(np.apply_along_axis(lambda x: np.bincount(x, minlength=self.min_length), 1, self.y_train[ind]), axis=1)\n",
    "        return self.y_pred.ravel()\n",
    "        \n",
    "    "
   ]
  },
  {
   "cell_type": "markdown",
   "metadata": {},
   "source": [
    "**IRIS**\n",
    "\n",
    "В библиотеке scikit-learn есть несколько датасетов из коробки. Один из них [Ирисы Фишера](https://ru.wikipedia.org/wiki/%D0%98%D1%80%D0%B8%D1%81%D1%8B_%D0%A4%D0%B8%D1%88%D0%B5%D1%80%D0%B0)"
   ]
  },
  {
   "cell_type": "code",
   "execution_count": 3,
   "metadata": {},
   "outputs": [],
   "source": [
    "iris = datasets.load_iris()"
   ]
  },
  {
   "cell_type": "code",
   "execution_count": 4,
   "metadata": {},
   "outputs": [],
   "source": [
    "X_train, X_test, y_train, y_test = train_test_split(iris.data, iris.target, test_size=0.1, stratify=iris.target)"
   ]
  },
  {
   "cell_type": "code",
   "execution_count": 5,
   "metadata": {},
   "outputs": [],
   "source": [
    "clf = KNeighborsClassifier(n_neighbors=2, algorithm='brute')\n",
    "my_clf = MyKNeighborsClassifier(n_neighbors=2, algorithm='brute')"
   ]
  },
  {
   "cell_type": "code",
   "execution_count": 6,
   "metadata": {},
   "outputs": [],
   "source": [
    "clf.fit(X_train, y_train)\n",
    "my_clf.fit(X_train, y_train)"
   ]
  },
  {
   "cell_type": "code",
   "execution_count": 7,
   "metadata": {},
   "outputs": [],
   "source": [
    "sklearn_pred = clf.predict(X_test)\n",
    "my_clf_pred = my_clf.predict(X_test)\n",
    "assert abs( accuracy_score(y_test, my_clf_pred) -  accuracy_score(y_test, sklearn_pred ) )<0.005, \"Score must be simillar\""
   ]
  },
  {
   "cell_type": "code",
   "execution_count": 8,
   "metadata": {},
   "outputs": [
    {
     "name": "stdout",
     "output_type": "stream",
     "text": [
      "0.9373333333333328 0.9366666666666664\n"
     ]
    }
   ],
   "source": [
    "my_acc=0\n",
    "acc=0\n",
    "for i in range(100):\n",
    "    X_train, X_test, y_train, y_test = train_test_split(iris.data, iris.target, test_size=0.1, stratify=iris.target)\n",
    "    clf.fit(X_train, y_train)\n",
    "    my_clf.fit(X_train, y_train)\n",
    "    sklearn_pred = clf.predict(X_test)\n",
    "    my_clf_pred = my_clf.predict(X_test)\n",
    "    #print( accuracy_score(y_test, my_clf_pred)>=accuracy_score(y_test, sklearn_pred), accuracy_score(y_test, my_clf_pred),accuracy_score(y_test, sklearn_pred))\n",
    "    my_acc+=accuracy_score(y_test, my_clf_pred)\n",
    "    acc+=accuracy_score(y_test, sklearn_pred)\n",
    "print(my_acc/100.0,acc/100.0)"
   ]
  },
  {
   "cell_type": "markdown",
   "metadata": {},
   "source": [
    "**Задание 2 (0.5 балла)**\n",
    "\n",
    "Давайте попробуем добиться скорости работы на fit, predict сравнимой со sklearn для iris. Допускается замедление не более чем в 2 раза. \n",
    "Для этого используем numpy. "
   ]
  },
  {
   "cell_type": "code",
   "execution_count": 9,
   "metadata": {},
   "outputs": [
    {
     "name": "stdout",
     "output_type": "stream",
     "text": [
      "Wall time: 1 ms\n"
     ]
    },
    {
     "data": {
      "text/plain": [
       "KNeighborsClassifier(algorithm='brute', leaf_size=30, metric='minkowski',\n",
       "                     metric_params=None, n_jobs=None, n_neighbors=2, p=2,\n",
       "                     weights='uniform')"
      ]
     },
     "execution_count": 9,
     "metadata": {},
     "output_type": "execute_result"
    }
   ],
   "source": [
    "%time clf.fit(X_train, y_train)"
   ]
  },
  {
   "cell_type": "code",
   "execution_count": 10,
   "metadata": {},
   "outputs": [
    {
     "name": "stdout",
     "output_type": "stream",
     "text": [
      "Wall time: 1.72 ms\n"
     ]
    }
   ],
   "source": [
    "%time my_clf.fit(X_train, y_train)"
   ]
  },
  {
   "cell_type": "code",
   "execution_count": 11,
   "metadata": {},
   "outputs": [
    {
     "name": "stdout",
     "output_type": "stream",
     "text": [
      "Wall time: 3 ms\n"
     ]
    },
    {
     "data": {
      "text/plain": [
       "array([2, 0, 0, 2, 2, 1, 0, 1, 1, 2, 0, 1, 0, 1, 1])"
      ]
     },
     "execution_count": 11,
     "metadata": {},
     "output_type": "execute_result"
    }
   ],
   "source": [
    "%time clf.predict(X_test)"
   ]
  },
  {
   "cell_type": "code",
   "execution_count": 12,
   "metadata": {},
   "outputs": [
    {
     "name": "stdout",
     "output_type": "stream",
     "text": [
      "Wall time: 2.25 ms\n"
     ]
    },
    {
     "data": {
      "text/plain": [
       "array([2, 0, 0, 2, 2, 1, 0, 1, 1, 2, 0, 1, 0, 1, 1], dtype=int64)"
      ]
     },
     "execution_count": 12,
     "metadata": {},
     "output_type": "execute_result"
    }
   ],
   "source": [
    "%time my_clf.predict(X_test)"
   ]
  },
  {
   "cell_type": "markdown",
   "metadata": {},
   "source": [
    "###### Задание 3 (1 балл)\n",
    "Добавьте algorithm='kd_tree' в реализацию KNN (использовать KDTree из sklearn.neighbors). Необходимо добиться скорости работы на fit,  predict сравнимой со sklearn для iris. Допускается замедление не более чем в 2 раза. \n",
    "Для этого используем numpy. Точность не должна уступать значению KNN из sklearn. "
   ]
  },
  {
   "cell_type": "code",
   "execution_count": 13,
   "metadata": {},
   "outputs": [],
   "source": [
    "clf = KNeighborsClassifier(n_neighbors=2, algorithm='kd_tree')\n",
    "my_clf = MyKNeighborsClassifier(n_neighbors=2, algorithm='kd_tree')"
   ]
  },
  {
   "cell_type": "code",
   "execution_count": 14,
   "metadata": {},
   "outputs": [],
   "source": [
    "X_train, X_test, y_train, y_test = train_test_split(iris.data, iris.target, test_size=0.1, stratify=iris.target)"
   ]
  },
  {
   "cell_type": "code",
   "execution_count": 15,
   "metadata": {},
   "outputs": [
    {
     "name": "stdout",
     "output_type": "stream",
     "text": [
      "Wall time: 4.01 ms\n"
     ]
    },
    {
     "data": {
      "text/plain": [
       "KNeighborsClassifier(algorithm='kd_tree', leaf_size=30, metric='minkowski',\n",
       "                     metric_params=None, n_jobs=None, n_neighbors=2, p=2,\n",
       "                     weights='uniform')"
      ]
     },
     "execution_count": 15,
     "metadata": {},
     "output_type": "execute_result"
    }
   ],
   "source": [
    "%time clf.fit(X_train, y_train)"
   ]
  },
  {
   "cell_type": "code",
   "execution_count": 16,
   "metadata": {},
   "outputs": [
    {
     "name": "stdout",
     "output_type": "stream",
     "text": [
      "Wall time: 2 ms\n"
     ]
    }
   ],
   "source": [
    "%time my_clf.fit(X_train, y_train)"
   ]
  },
  {
   "cell_type": "code",
   "execution_count": 17,
   "metadata": {},
   "outputs": [
    {
     "name": "stdout",
     "output_type": "stream",
     "text": [
      "Wall time: 5 ms\n"
     ]
    },
    {
     "data": {
      "text/plain": [
       "array([0, 0, 2, 2, 1, 0, 0, 0, 1, 2, 2, 2, 1, 2, 1])"
      ]
     },
     "execution_count": 17,
     "metadata": {},
     "output_type": "execute_result"
    }
   ],
   "source": [
    "%time clf.predict(X_test)"
   ]
  },
  {
   "cell_type": "code",
   "execution_count": 18,
   "metadata": {},
   "outputs": [
    {
     "name": "stdout",
     "output_type": "stream",
     "text": [
      "Wall time: 1 ms\n"
     ]
    },
    {
     "data": {
      "text/plain": [
       "array([0, 0, 2, 2, 1, 0, 0, 0, 1, 2, 2, 2, 1, 2, 1], dtype=int64)"
      ]
     },
     "execution_count": 18,
     "metadata": {},
     "output_type": "execute_result"
    }
   ],
   "source": [
    "%time my_clf.predict(X_test)"
   ]
  },
  {
   "cell_type": "code",
   "execution_count": 19,
   "metadata": {},
   "outputs": [],
   "source": [
    "sklearn_pred = clf.predict(X_test)\n",
    "my_clf_pred = my_clf.predict(X_test)\n",
    "assert abs( accuracy_score(y_test, my_clf_pred) -  accuracy_score(y_test, sklearn_pred ) )<0.005, \"Score must be simillar\""
   ]
  },
  {
   "cell_type": "code",
   "execution_count": 20,
   "metadata": {},
   "outputs": [
    {
     "name": "stdout",
     "output_type": "stream",
     "text": [
      "0.9506666666666662 0.9506666666666663\n"
     ]
    }
   ],
   "source": [
    "my_acc=0\n",
    "acc=0\n",
    "for i in range(100):\n",
    "    X_train, X_test, y_train, y_test = train_test_split(iris.data, iris.target, test_size=0.1, stratify=iris.target)\n",
    "    clf.fit(X_train, y_train)\n",
    "    my_clf.fit(X_train, y_train)\n",
    "    sklearn_pred = clf.predict(X_test)\n",
    "    my_clf_pred = my_clf.predict(X_test)\n",
    "    #print( accuracy_score(y_test, my_clf_pred)>=accuracy_score(y_test, sklearn_pred), accuracy_score(y_test, my_clf_pred),accuracy_score(y_test, sklearn_pred))\n",
    "    my_acc+=accuracy_score(y_test, my_clf_pred)\n",
    "    acc+=accuracy_score(y_test, sklearn_pred)\n",
    "print(my_acc/100.0,acc/100.0)"
   ]
  },
  {
   "cell_type": "markdown",
   "metadata": {},
   "source": [
    "**Задание 4 (2.5 балла)**\n",
    "\n",
    "Рассмотрим новый датасет 20 newsgroups"
   ]
  },
  {
   "cell_type": "code",
   "execution_count": 21,
   "metadata": {},
   "outputs": [],
   "source": [
    "newsgroups = fetch_20newsgroups(subset='train',remove=['headers','footers', 'quotes'])"
   ]
  },
  {
   "cell_type": "code",
   "execution_count": 22,
   "metadata": {},
   "outputs": [],
   "source": [
    "data = newsgroups['data']\n",
    "target = newsgroups['target']"
   ]
  },
  {
   "cell_type": "markdown",
   "metadata": {},
   "source": [
    "Преобразуйте текстовые данные из data с помощью [CountVectorizer](https://scikit-learn.org/stable/modules/generated/sklearn.feature_extraction.text.CountVectorizer.html). Словарь можно ограничить по частотности."
   ]
  },
  {
   "cell_type": "code",
   "execution_count": 23,
   "metadata": {},
   "outputs": [
    {
     "data": {
      "text/plain": [
       "<11314x186 sparse matrix of type '<class 'numpy.int64'>'\n",
       "\twith 192487 stored elements in Compressed Sparse Row format>"
      ]
     },
     "execution_count": 23,
     "metadata": {},
     "output_type": "execute_result"
    }
   ],
   "source": [
    "from sklearn import feature_extraction\n",
    "vectorizer = feature_extraction.text.CountVectorizer(max_df = 0.2, min_df=0.05)\n",
    "X = vectorizer.fit_transform(data)\n",
    "X"
   ]
  },
  {
   "cell_type": "markdown",
   "metadata": {},
   "source": [
    "*Так мы получили векторное представление наших текстов. Значит можно приступать к задаче обучения модели*"
   ]
  },
  {
   "cell_type": "markdown",
   "metadata": {},
   "source": [
    "Реализуйте разбиение выборки для кросс-валидации на 3 фолдах. Разрешено использовать sklearn.cross_validation"
   ]
  },
  {
   "cell_type": "code",
   "execution_count": 24,
   "metadata": {},
   "outputs": [
    {
     "name": "stdout",
     "output_type": "stream",
     "text": [
      "TRAIN: [    0     1     4 ... 11310 11311 11313] TEST: [    2     3     6 ... 11302 11308 11312]\n",
      "TRAIN: [    0     2     3 ... 11310 11311 11312] TEST: [    1     5     7 ... 11301 11305 11313]\n",
      "TRAIN: [    1     2     3 ... 11308 11312 11313] TEST: [    0     4     8 ... 11309 11310 11311]\n"
     ]
    }
   ],
   "source": [
    "#разбиение выборки на 3 блока\n",
    "from sklearn.model_selection import KFold\n",
    "kfold = KFold(3,True)\n",
    "\n",
    "for train_index, test_index in kfold.split(X):\n",
    "    print(\"TRAIN:\", train_index, \"TEST:\", test_index)\n",
    "    X_train, X_test = X[train_index], X[test_index]\n",
    "    y_train, y_test = target[train_index], target[test_index]"
   ]
  },
  {
   "cell_type": "code",
   "execution_count": 25,
   "metadata": {},
   "outputs": [],
   "source": [
    "import matplotlib.pyplot as plt\n",
    "#для быстроты посчитаем на кд_дереве \n",
    "def best_k(X,n_max):\n",
    "    neigbours = list(range(1,n_max+1,1))\n",
    "    accuracy=np.zeros(n_max)\n",
    "    i=0\n",
    "    for k in neigbours:\n",
    "        my_clf = MyKNeighborsClassifier(n_neighbors=k, algorithm='kd_tree')\n",
    "        for train_index, test_index in kfold.split(X):\n",
    "            X_train, X_test = X[train_index], X[test_index]\n",
    "            y_train, y_test = target[train_index], target[test_index]\n",
    "            my_clf.fit(X_train.toarray(), y_train)\n",
    "            my_clf_pred = my_clf.predict(X_test.toarray())\n",
    "            accuracy[i]+=accuracy_score(y_test, my_clf_pred)\n",
    "        accuracy[i]/=3\n",
    "        i+=1\n",
    "    fig = plt.figure()\n",
    "    ax = fig.add_subplot(111)\n",
    "    x = np.arange(1,16)\n",
    "    y = accuracy\n",
    "    ax.plot(x,y)\n",
    "    plt.show()\n",
    "#выводим скор и лучшее кол-во соседей\n",
    "    return np.argmax(accuracy[1:])+2\n"
   ]
  },
  {
   "cell_type": "markdown",
   "metadata": {},
   "source": [
    "Напишите метод, позволяющий найти оптимальное количество ближайших соседей(дающее максимальную точность в среднем на валидации на 3 фолдах).\n",
    "Постройте график зависимости средней точности от количества соседей. Можно рассмотреть число соседей от 1 до 10."
   ]
  },
  {
   "cell_type": "code",
   "execution_count": 26,
   "metadata": {},
   "outputs": [
    {
     "data": {
      "image/png": "[encoded data removed]",
      "text/plain": [
       "<Figure size 432x288 with 1 Axes>"
      ]
     },
     "metadata": {
      "needs_background": "light"
     },
     "output_type": "display_data"
    },
    {
     "data": {
      "text/plain": [
       "12"
      ]
     },
     "execution_count": 26,
     "metadata": {},
     "output_type": "execute_result"
    }
   ],
   "source": [
    "best_k(X,15)"
   ]
  },
  {
   "cell_type": "markdown",
   "metadata": {},
   "source": [
    "Как изменится качество на валидации, если:\n",
    "\n",
    "1. Используется косинусная метрика вместо евклидовой.\n",
    "2. К текстам применяется TfIdf векторизацию( sklearn.feature_extraction.text.TfidfVectorizer)\n",
    "\n",
    "Сравните модели, выберите лучшую."
   ]
  },
  {
   "cell_type": "code",
   "execution_count": 27,
   "metadata": {},
   "outputs": [],
   "source": [
    "#переписала для использования косинусной метрики\n",
    "class MyKNeighborsClassifier_cosine(BaseEstimator):\n",
    "    \n",
    "    def __init__(self, n_neighbors, algorithm):\n",
    "        self.n = n_neighbors\n",
    "        self.alg = algorithm\n",
    "    \n",
    "    def fit(self, X, y):\n",
    "        self.X_train = X\n",
    "        self.scaler = preprocessing.StandardScaler().fit(self.X_train) \n",
    "        self.X_train_st = self.scaler.transform(self.X_train)\n",
    "        self.y_train = y\n",
    "        self.min_length = np.unique(self.y_train)[-1]+1\n",
    "        \n",
    "    def predict(self, X):\n",
    "        self.X_test = X\n",
    "        self.X_test_st = self.scaler.transform(self.X_test)\n",
    "        self.y_pred = np.zeros(self.X_test_st.shape[0],dtype='int64')\n",
    "        if(self.alg == 'brute'):\n",
    "            for i in range(self.X_test_st.shape[0]):\n",
    "                a = self.X_train_st\n",
    "                b = self.X_test_st[i,:]\n",
    "                dist = 1.0-(np.sum(a*b,axis=1)/(np.sqrt(np.sum(a*a,axis=1))*np.sqrt(np.sum(b*b))))\n",
    "                ind = np.argsort(dist)[:self.n]\n",
    "                self.y_pred[i] = np.argmax(np.bincount(self.y_train[ind],minlength = self.min_length))\n",
    "        else:\n",
    "                self.KDTree = KDTree(self.X_train_st)\n",
    "                dist, ind = self.KDTree.query(self.X_test_st, k=self.n)\n",
    "                self.y_pred = np.argmax(np.apply_along_axis(lambda x: np.bincount(x, minlength=self.min_length), 1, self.y_train[ind]), axis=1)\n",
    "        return self.y_pred.ravel()\n",
    "        \n",
    "                    "
   ]
  },
  {
   "cell_type": "code",
   "execution_count": 28,
   "metadata": {},
   "outputs": [
    {
     "name": "stdout",
     "output_type": "stream",
     "text": [
      "TRAIN: [    0     1     3 ... 11309 11311 11312] TEST: [    2     4     7 ... 11308 11310 11313]\n",
      "0.12195121951219512 0.16092258748674443\n",
      "TRAIN: [    0     2     3 ... 11311 11312 11313] TEST: [    1     8     9 ... 11304 11307 11309]\n",
      "0.12649164677804295 0.16759480243967118\n",
      "TRAIN: [    1     2     4 ... 11309 11310 11313] TEST: [    0     3     5 ... 11305 11311 11312]\n",
      "0.12118801378944577 0.15645717316361707\n"
     ]
    }
   ],
   "source": [
    "my_clf2 = MyKNeighborsClassifier_cosine(n_neighbors=10, algorithm='brute')\n",
    "for train_index, test_index in kfold.split(X):\n",
    "    print(\"TRAIN:\", train_index, \"TEST:\", test_index)\n",
    "    X_train, X_test = X[train_index], X[test_index]\n",
    "    y_train, y_test = target[train_index], target[test_index]\n",
    "    my_clf.fit(X_train.toarray(), y_train)\n",
    "    my_clf_pred = my_clf.predict(X_test.toarray())\n",
    "    my_clf2.fit(X_train.toarray(), y_train)\n",
    "    my_clf2_pred = my_clf2.predict(X_test.toarray())\n",
    "    print( accuracy_score(y_test, my_clf_pred), accuracy_score(y_test, my_clf2_pred))"
   ]
  },
  {
   "cell_type": "code",
   "execution_count": 29,
   "metadata": {},
   "outputs": [],
   "source": [
    "#1.видим что точность подросла"
   ]
  },
  {
   "cell_type": "code",
   "execution_count": 30,
   "metadata": {},
   "outputs": [
    {
     "name": "stdout",
     "output_type": "stream",
     "text": [
      "TRAIN: [    0     1     6 ... 11309 11311 11313] TEST: [    2     3     4 ... 11305 11310 11312]\n",
      "0.1574761399787911 0.18425238600212088\n",
      "TRAIN: [    1     2     3 ... 11309 11310 11312] TEST: [    0     7     9 ... 11308 11311 11313]\n",
      "0.1431980906921241 0.18005833996287457\n",
      "TRAIN: [    0     2     3 ... 11311 11312 11313] TEST: [    1     6     8 ... 11303 11306 11309]\n",
      "0.15910898965791567 0.19252187748607796\n"
     ]
    }
   ],
   "source": [
    "from sklearn.feature_extraction.text import TfidfVectorizer\n",
    "vectorizer = TfidfVectorizer(max_df = 0.2, min_df=0.05)\n",
    "X2 = vectorizer.fit_transform(data)\n",
    "my_clf2 = MyKNeighborsClassifier_cosine(n_neighbors=10, algorithm='brute')\n",
    "for train_index, test_index in kfold.split(X2):\n",
    "    print(\"TRAIN:\", train_index, \"TEST:\", test_index)\n",
    "    X_train, X_test = X2[train_index], X2[test_index]\n",
    "    y_train, y_test = target[train_index], target[test_index]\n",
    "    my_clf.fit(X_train.toarray(), y_train)\n",
    "    my_clf_pred = my_clf.predict(X_test.toarray())\n",
    "    my_clf2.fit(X_train.toarray(), y_train)\n",
    "    my_clf2_pred = my_clf2.predict(X_test.toarray())\n",
    "    print( accuracy_score(y_test, my_clf_pred), accuracy_score(y_test, my_clf2_pred))"
   ]
  },
  {
   "cell_type": "markdown",
   "metadata": {},
   "source": [
    "Загрузим  теперь test  часть нашей выборки и преобразуем её аналогично с train частью. Не забудьте, что наборы слов в train и test части могут отличаться."
   ]
  },
  {
   "cell_type": "code",
   "execution_count": 31,
   "metadata": {},
   "outputs": [],
   "source": [
    "newsgroups = fetch_20newsgroups(subset='test',remove=['headers','footers', 'quotes'])"
   ]
  },
  {
   "cell_type": "markdown",
   "metadata": {},
   "source": [
    "Оценим точность вашей лучшей модели на test части датасета. Отличается ли оно от кросс-валидации? Попробуйте сделать выводы, почему отличается качество."
   ]
  },
  {
   "cell_type": "code",
   "execution_count": 36,
   "metadata": {},
   "outputs": [],
   "source": [
    "my_clf2 = MyKNeighborsClassifier_cosine(n_neighbors=10, algorithm='brute')\n",
    "vectorizer = TfidfVectorizer(max_df = 0.2, min_df=0.05)\n",
    "X2 = vectorizer.fit_transform(data)\n",
    "my_clf2.fit(X2.toarray(), target)\n",
    "data_test = newsgroups['data']\n",
    "target_test = newsgroups['target']\n",
    "X2_test = vectorizer.transform(data_test)\n"
   ]
  },
  {
   "cell_type": "code",
   "execution_count": 37,
   "metadata": {},
   "outputs": [
    {
     "name": "stdout",
     "output_type": "stream",
     "text": [
      "0.16356877323420074\n"
     ]
    }
   ],
   "source": [
    "my_clf2_pred = my_clf2.predict(X2_test.toarray())\n",
    "print(accuracy_score(target_test, my_clf2_pred))"
   ]
  },
  {
   "cell_type": "code",
   "execution_count": null,
   "metadata": {},
   "outputs": [],
   "source": [
    "#качество на тесте может быть ниже т.к. на кросс валидации мы трансформировали весь трейн одинаково и затем из него брали кусочки\n",
    "#здесь же мы учимся трансформировать на трейне и затем прогоняем тест по этой же трансформации, но наборы слов в трейне и тесте разные\n",
    "# например, если в трейне очень часто встречалось какое то слово, его вес будет маленьким, при этом в тесте оно могло встречаться редко и только у похожих документов"
   ]
  }
 ],
 "metadata": {
  "kernelspec": {
   "display_name": "Python 3",
   "language": "python",
   "name": "python3"
  },
  "language_info": {
   "codemirror_mode": {
    "name": "ipython",
    "version": 3
   },
   "file_extension": ".py",
   "mimetype": "text/x-python",
   "name": "python",
   "nbconvert_exporter": "python",
   "pygments_lexer": "ipython3",
   "version": "3.7.4"
  }
 },
 "nbformat": 4,
 "nbformat_minor": 2
}
