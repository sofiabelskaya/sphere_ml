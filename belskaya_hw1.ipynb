{
 "cells": [
  {
   "cell_type": "markdown",
   "metadata": {},
   "source": [
    "**Общая информация**\n",
    "\n",
    "**Срок сдачи:** 21 октября 2020, 08:30 \n",
    "\n",
    "**Штраф за опоздание:** по 1 баллу за 24 часа задержки. Через 5 дней домашнее задание сгорает.\n",
    "\n",
    "При отправлении ДЗ указывайте фамилию в названии файла\n",
    "Присылать ДЗ необходимо в виде ссылки на свой github репозиторий на почту ml1.sphere@mail.ru с указанием темы в следующем формате:\n",
    "\n",
    "[ML0220, Задание 1] Фамилия Имя.\n",
    "\n",
    "Используйте данный Ipython Notebook при оформлении домашнего задания."
   ]
  },
  {
   "cell_type": "markdown",
   "metadata": {},
   "source": [
    "\n",
    "**Штрафные баллы:**\n",
    "\n",
    "1. Отсутствие фамилии в имени скрипта (скрипт должен называться по аналогии со stroykova_hw1.ipynb) -0.5 баллов\n",
    "2. Все строчки должны быть выполнены. Нужно, чтобы output команды можно было увидеть уже в git'е. В противном случае -0.5 баллов\n"
   ]
  },
  {
   "cell_type": "code",
   "execution_count": 1,
   "metadata": {},
   "outputs": [],
   "source": [
    "import numpy as np\n",
    "import matplotlib.pyplot as plt\n",
    "\n",
    "import seaborn as sns\n",
    "from sklearn import datasets\n",
    "from sklearn.base import BaseEstimator\n",
    "from sklearn.datasets import fetch_mldata, fetch_20newsgroups\n",
    "\n",
    "from sklearn.model_selection import train_test_split\n",
    "from sklearn.neighbors import KNeighborsClassifier\n",
    "from sklearn.metrics import accuracy_score\n",
    "\n",
    "from sklearn.neighbors import KDTree\n",
    "from sklearn import preprocessing #стандартизация\n",
    "from scipy.spatial import distance #cdist\n",
    "from sklearn import feature_extraction #vectorizer\n",
    "from sklearn.model_selection import KFold\n",
    "import matplotlib.pyplot as plt\n",
    "from sklearn.metrics import pairwise_distances \n",
    "from sklearn.feature_extraction.text import TfidfVectorizer"
   ]
  },
  {
   "cell_type": "markdown",
   "metadata": {},
   "source": [
    "##### Задание 1 (1 балл)\n",
    "Реализовать KNN в классе MyKNeighborsClassifier (обязательное условие: точность не ниже sklearn реализации)\n",
    "Разберитесь самостоятельно, какая мера расстояния используется в KNeighborsClassifier дефолтно и реализуйте свой алгоритм именно с этой мерой. \n",
    "Для подсчета расстояний можно использовать функции [отсюда](https://docs.scipy.org/doc/scipy/reference/spatial.distance.html)"
   ]
  },
  {
   "cell_type": "code",
   "execution_count": 2,
   "metadata": {},
   "outputs": [],
   "source": [
    " \n",
    "class MyKNeighborsClassifier(BaseEstimator):\n",
    "    \n",
    "    def __init__(self, n_neighbors, algorithm = 'brute', metric = 'minkowski'):\n",
    "        self.n = n_neighbors\n",
    "        self.alg = algorithm\n",
    "        self.metric = metric\n",
    "    \n",
    "    def fit(self, X, y):\n",
    "        self.y_train = y\n",
    "        self.X_train = X\n",
    "        self.min_length = np.max(self.y_train)+1\n",
    "        if self.metric ==\"minkowski\":\n",
    "            self.scaler = preprocessing.StandardScaler().fit(self.X_train) \n",
    "            self.X_train_st = self.scaler.transform(self.X_train)       \n",
    "        \n",
    "    def predict(self, X):\n",
    "        self.X_test = X\n",
    "        self.y_pred = np.zeros(self.X_test.shape[0], dtype='int64')\n",
    "        if self.metric == \"minkowski\":\n",
    "            self.X_test_st = self.scaler.transform(self.X_test)\n",
    "            if(self.alg == 'brute'):\n",
    "                dist = distance.cdist(self.X_test_st, self.X_train_st, 'minkowski', p = 2.)\n",
    "                ind = np.argsort(dist, axis = 1)[:,:self.n]\n",
    "                self.y_pred = np.argmax(np.apply_along_axis(lambda x: np.bincount(x, minlength = self.min_length), 1, self.y_train[ind]), axis=1)\n",
    "            else:\n",
    "                self.KDTree = KDTree(self.X_train_st)\n",
    "                dist, ind = self.KDTree.query(self.X_test_st, k = self.n)\n",
    "                self.y_pred = np.argmax(np.apply_along_axis(lambda x: np.bincount(x, minlength = self.min_length), 1, self.y_train[ind]), axis=1)\n",
    "        else:\n",
    "            dist = pairwise_distances(self.X_test, self.X_train, 'cosine')\n",
    "            ind = np.argsort(dist, axis = 1)[:,:self.n]\n",
    "            self.y_pred = np.argmax(np.apply_along_axis(lambda x: np.bincount(x, minlength = self.min_length), 1, self.y_train[ind]), axis=1)\n",
    "        \n",
    "        return self.y_pred.ravel()\n",
    "        \n",
    "    "
   ]
  },
  {
   "cell_type": "markdown",
   "metadata": {},
   "source": [
    "**IRIS**\n",
    "\n",
    "В библиотеке scikit-learn есть несколько датасетов из коробки. Один из них [Ирисы Фишера](https://ru.wikipedia.org/wiki/%D0%98%D1%80%D0%B8%D1%81%D1%8B_%D0%A4%D0%B8%D1%88%D0%B5%D1%80%D0%B0)"
   ]
  },
  {
   "cell_type": "code",
   "execution_count": 3,
   "metadata": {},
   "outputs": [],
   "source": [
    "iris = datasets.load_iris()"
   ]
  },
  {
   "cell_type": "code",
   "execution_count": 4,
   "metadata": {},
   "outputs": [],
   "source": [
    "X_train, X_test, y_train, y_test = train_test_split(iris.data, iris.target, test_size=0.1, stratify=iris.target)"
   ]
  },
  {
   "cell_type": "code",
   "execution_count": 5,
   "metadata": {},
   "outputs": [],
   "source": [
    "clf = KNeighborsClassifier(n_neighbors=2, algorithm='brute')\n",
    "my_clf = MyKNeighborsClassifier(n_neighbors=2, algorithm='brute')"
   ]
  },
  {
   "cell_type": "code",
   "execution_count": 6,
   "metadata": {},
   "outputs": [],
   "source": [
    "clf.fit(X_train, y_train)\n",
    "my_clf.fit(X_train, y_train)"
   ]
  },
  {
   "cell_type": "code",
   "execution_count": 7,
   "metadata": {},
   "outputs": [],
   "source": [
    "sklearn_pred = clf.predict(X_test)\n",
    "my_clf_pred = my_clf.predict(X_test)\n",
    "assert abs( accuracy_score(y_test, my_clf_pred) -  accuracy_score(y_test, sklearn_pred ) )<0.005, \"Score must be simillar\""
   ]
  },
  {
   "cell_type": "code",
   "execution_count": 9,
   "metadata": {},
   "outputs": [
    {
     "name": "stdout",
     "output_type": "stream",
     "text": [
      "0.9606666666666664 0.9560000000000001\n"
     ]
    }
   ],
   "source": [
    "#посмотрела, что в среднем точность на моем классификаторе и на sklearn не особо отличаются\n",
    "my_acc=0\n",
    "acc=0\n",
    "for i in range(100):\n",
    "    X_train, X_test, y_train, y_test = train_test_split(iris.data, iris.target, test_size=0.1, stratify=iris.target)\n",
    "    clf.fit(X_train, y_train)\n",
    "    my_clf.fit(X_train, y_train)\n",
    "    sklearn_pred = clf.predict(X_test)\n",
    "    my_clf_pred = my_clf.predict(X_test)\n",
    "    my_acc+=accuracy_score(y_test, my_clf_pred)\n",
    "    acc+=accuracy_score(y_test, sklearn_pred)\n",
    "print(my_acc/100.0,acc/100.0)"
   ]
  },
  {
   "cell_type": "markdown",
   "metadata": {},
   "source": [
    "**Задание 2 (0.5 балла)**\n",
    "\n",
    "Давайте попробуем добиться скорости работы на fit, predict сравнимой со sklearn для iris. Допускается замедление не более чем в 2 раза. \n",
    "Для этого используем numpy. "
   ]
  },
  {
   "cell_type": "code",
   "execution_count": 10,
   "metadata": {},
   "outputs": [
    {
     "name": "stdout",
     "output_type": "stream",
     "text": [
      "Wall time: 0 ns\n"
     ]
    },
    {
     "data": {
      "text/plain": [
       "KNeighborsClassifier(algorithm='brute', leaf_size=30, metric='minkowski',\n",
       "                     metric_params=None, n_jobs=None, n_neighbors=2, p=2,\n",
       "                     weights='uniform')"
      ]
     },
     "execution_count": 10,
     "metadata": {},
     "output_type": "execute_result"
    }
   ],
   "source": [
    "%time clf.fit(X_train, y_train)"
   ]
  },
  {
   "cell_type": "code",
   "execution_count": 11,
   "metadata": {},
   "outputs": [
    {
     "name": "stdout",
     "output_type": "stream",
     "text": [
      "Wall time: 2 ms\n"
     ]
    }
   ],
   "source": [
    "%time my_clf.fit(X_train, y_train)"
   ]
  },
  {
   "cell_type": "code",
   "execution_count": 12,
   "metadata": {},
   "outputs": [
    {
     "name": "stdout",
     "output_type": "stream",
     "text": [
      "Wall time: 3 ms\n"
     ]
    },
    {
     "data": {
      "text/plain": [
       "array([0, 1, 2, 2, 0, 2, 1, 2, 2, 1, 1, 0, 2, 0, 0])"
      ]
     },
     "execution_count": 12,
     "metadata": {},
     "output_type": "execute_result"
    }
   ],
   "source": [
    "%time clf.predict(X_test)"
   ]
  },
  {
   "cell_type": "code",
   "execution_count": 13,
   "metadata": {},
   "outputs": [
    {
     "name": "stdout",
     "output_type": "stream",
     "text": [
      "Wall time: 1.86 ms\n"
     ]
    },
    {
     "data": {
      "text/plain": [
       "array([0, 1, 2, 2, 0, 2, 1, 2, 2, 1, 1, 0, 2, 0, 0], dtype=int64)"
      ]
     },
     "execution_count": 13,
     "metadata": {},
     "output_type": "execute_result"
    }
   ],
   "source": [
    "%time my_clf.predict(X_test)"
   ]
  },
  {
   "cell_type": "markdown",
   "metadata": {},
   "source": [
    "###### Задание 3 (1 балл)\n",
    "Добавьте algorithm='kd_tree' в реализацию KNN (использовать KDTree из sklearn.neighbors). Необходимо добиться скорости работы на fit,  predict сравнимой со sklearn для iris. Допускается замедление не более чем в 2 раза. \n",
    "Для этого используем numpy. Точность не должна уступать значению KNN из sklearn. "
   ]
  },
  {
   "cell_type": "code",
   "execution_count": 22,
   "metadata": {},
   "outputs": [],
   "source": [
    "clf = KNeighborsClassifier(n_neighbors=2, algorithm='kd_tree')\n",
    "my_clf = MyKNeighborsClassifier(n_neighbors=2, algorithm='kd_tree')"
   ]
  },
  {
   "cell_type": "code",
   "execution_count": 23,
   "metadata": {},
   "outputs": [],
   "source": [
    "X_train, X_test, y_train, y_test = train_test_split(iris.data, iris.target, test_size=0.1, stratify=iris.target)"
   ]
  },
  {
   "cell_type": "code",
   "execution_count": 24,
   "metadata": {},
   "outputs": [
    {
     "name": "stdout",
     "output_type": "stream",
     "text": [
      "Wall time: 925 µs\n"
     ]
    },
    {
     "data": {
      "text/plain": [
       "KNeighborsClassifier(algorithm='kd_tree', leaf_size=30, metric='minkowski',\n",
       "                     metric_params=None, n_jobs=None, n_neighbors=2, p=2,\n",
       "                     weights='uniform')"
      ]
     },
     "execution_count": 24,
     "metadata": {},
     "output_type": "execute_result"
    }
   ],
   "source": [
    "%time clf.fit(X_train, y_train)"
   ]
  },
  {
   "cell_type": "code",
   "execution_count": 25,
   "metadata": {},
   "outputs": [
    {
     "name": "stdout",
     "output_type": "stream",
     "text": [
      "Wall time: 1.99 ms\n"
     ]
    }
   ],
   "source": [
    "%time my_clf.fit(X_train, y_train)"
   ]
  },
  {
   "cell_type": "code",
   "execution_count": 26,
   "metadata": {},
   "outputs": [
    {
     "name": "stdout",
     "output_type": "stream",
     "text": [
      "Wall time: 3.09 ms\n"
     ]
    },
    {
     "data": {
      "text/plain": [
       "array([2, 2, 2, 0, 2, 1, 1, 1, 0, 1, 0, 2, 1, 0, 0])"
      ]
     },
     "execution_count": 26,
     "metadata": {},
     "output_type": "execute_result"
    }
   ],
   "source": [
    "%time clf.predict(X_test)"
   ]
  },
  {
   "cell_type": "code",
   "execution_count": 27,
   "metadata": {},
   "outputs": [
    {
     "name": "stdout",
     "output_type": "stream",
     "text": [
      "Wall time: 1.96 ms\n"
     ]
    },
    {
     "data": {
      "text/plain": [
       "array([2, 2, 2, 0, 2, 1, 1, 1, 0, 1, 0, 2, 1, 0, 0], dtype=int64)"
      ]
     },
     "execution_count": 27,
     "metadata": {},
     "output_type": "execute_result"
    }
   ],
   "source": [
    "%time my_clf.predict(X_test)"
   ]
  },
  {
   "cell_type": "code",
   "execution_count": 28,
   "metadata": {},
   "outputs": [],
   "source": [
    "sklearn_pred = clf.predict(X_test)\n",
    "my_clf_pred = my_clf.predict(X_test)\n",
    "assert abs( accuracy_score(y_test, my_clf_pred) -  accuracy_score(y_test, sklearn_pred ) )<0.005, \"Score must be simillar\""
   ]
  },
  {
   "cell_type": "code",
   "execution_count": 30,
   "metadata": {},
   "outputs": [
    {
     "name": "stdout",
     "output_type": "stream",
     "text": [
      "0.9506666666666664 0.945333333333333\n"
     ]
    }
   ],
   "source": [
    "#посмотрела, что в среднем точность на моем классификаторе и на sklearn не особо отличаются\n",
    "my_acc = 0\n",
    "acc = 0\n",
    "for i in range(100):\n",
    "    X_train, X_test, y_train, y_test = train_test_split(iris.data, iris.target, test_size = 0.1, stratify = iris.target)\n",
    "    clf.fit(X_train, y_train)\n",
    "    my_clf.fit(X_train, y_train)\n",
    "    sklearn_pred = clf.predict(X_test)\n",
    "    my_clf_pred = my_clf.predict(X_test)\n",
    "    my_acc += accuracy_score(y_test, my_clf_pred)\n",
    "    acc += accuracy_score(y_test, sklearn_pred)\n",
    "print(my_acc/100.0, acc/100.0)"
   ]
  },
  {
   "cell_type": "markdown",
   "metadata": {},
   "source": [
    "**Задание 4 (2.5 балла)**\n",
    "\n",
    "Рассмотрим новый датасет 20 newsgroups"
   ]
  },
  {
   "cell_type": "code",
   "execution_count": 31,
   "metadata": {},
   "outputs": [],
   "source": [
    "newsgroups = fetch_20newsgroups(subset='train',remove=['headers','footers', 'quotes'])"
   ]
  },
  {
   "cell_type": "code",
   "execution_count": 32,
   "metadata": {},
   "outputs": [],
   "source": [
    "data = newsgroups['data']\n",
    "target = newsgroups['target']"
   ]
  },
  {
   "cell_type": "markdown",
   "metadata": {},
   "source": [
    "Преобразуйте текстовые данные из data с помощью [CountVectorizer](https://scikit-learn.org/stable/modules/generated/sklearn.feature_extraction.text.CountVectorizer.html). Словарь можно ограничить по частотности."
   ]
  },
  {
   "cell_type": "code",
   "execution_count": 33,
   "metadata": {},
   "outputs": [
    {
     "data": {
      "text/plain": [
       "<11314x1309 sparse matrix of type '<class 'numpy.int64'>'\n",
       "\twith 408266 stored elements in Compressed Sparse Row format>"
      ]
     },
     "execution_count": 33,
     "metadata": {},
     "output_type": "execute_result"
    }
   ],
   "source": [
    "vectorizer = feature_extraction.text.CountVectorizer(max_df = 0.15, min_df = 0.01)\n",
    "X = vectorizer.fit_transform(data)\n",
    "X"
   ]
  },
  {
   "cell_type": "markdown",
   "metadata": {},
   "source": [
    "*Так мы получили векторное представление наших текстов. Значит можно приступать к задаче обучения модели*"
   ]
  },
  {
   "cell_type": "markdown",
   "metadata": {},
   "source": [
    "Реализуйте разбиение выборки для кросс-валидации на 3 фолдах. Разрешено использовать sklearn.cross_validation"
   ]
  },
  {
   "cell_type": "code",
   "execution_count": 36,
   "metadata": {},
   "outputs": [],
   "source": [
    "#разбиение выборки на 3 блока\n",
    "kfold = KFold(3,True)"
   ]
  },
  {
   "cell_type": "code",
   "execution_count": 37,
   "metadata": {},
   "outputs": [
    {
     "name": "stdout",
     "output_type": "stream",
     "text": [
      "TRAIN: [    0     3     5 ... 11307 11311 11312] TEST: [    1     2     4 ... 11309 11310 11313]\n",
      "TRAIN: [    0     1     2 ... 11310 11311 11313] TEST: [    6     7     8 ... 11305 11306 11312]\n",
      "TRAIN: [    1     2     4 ... 11310 11312 11313] TEST: [    0     3     5 ... 11303 11307 11311]\n"
     ]
    }
   ],
   "source": [
    "#проверим\n",
    "for train_index, test_index in kfold.split(X):\n",
    "    print(\"TRAIN:\", train_index, \"TEST:\", test_index)\n",
    "    X_train, X_test = X[train_index], X[test_index]\n",
    "    y_train, y_test = target[train_index], target[test_index]"
   ]
  },
  {
   "cell_type": "markdown",
   "metadata": {},
   "source": [
    "Напишите метод, позволяющий найти оптимальное количество ближайших соседей(дающее максимальную точность в среднем на валидации на 3 фолдах).\n",
    "Постройте график зависимости средней точности от количества соседей. Можно рассмотреть число соседей от 1 до 10."
   ]
  },
  {
   "cell_type": "code",
   "execution_count": 50,
   "metadata": {},
   "outputs": [],
   "source": [
    "#для быстроты посчитаем на кд_дереве, хотя работает все равно очень-очень медленно т.к. для стандартизации разреженную матрицу нужно приводить к массиву\n",
    "def best_k(X,n_max, my_metric = 'minkowski'):\n",
    "    neigbours = list(range(1, n_max + 1, 1))\n",
    "    accuracy = np.zeros(n_max)\n",
    "    i = 0\n",
    "    for k in neigbours:\n",
    "        my_clf = MyKNeighborsClassifier(n_neighbors = k, algorithm = 'kd_tree', metric = my_metric)\n",
    "        for train_index, test_index in kfold.split(X):\n",
    "            X_train, X_test = X[train_index], X[test_index]\n",
    "            y_train, y_test = target[train_index], target[test_index]\n",
    "            my_clf.fit(X_train.toarray(), y_train)\n",
    "            my_clf_pred = my_clf.predict(X_test.toarray())\n",
    "            accuracy[i] += accuracy_score(y_test, my_clf_pred)\n",
    "        accuracy[i] /= 3\n",
    "        print(k,accuracy[i])\n",
    "        i += 1\n",
    "    fig = plt.figure()\n",
    "    ax = fig.add_subplot(111)\n",
    "    x = np.arange(1,n_max+1)\n",
    "    y = accuracy\n",
    "    ax.plot(x,y)\n",
    "    plt.show()\n",
    "#выводим скор и лучшее кол-во соседей\n",
    "    return np.argmax(accuracy[1:])+2 \n",
    "#убираем из рассмотрения классификацию по одному соседу, потому что она переобучается и чувствительна к выбросам\n"
   ]
  },
  {
   "cell_type": "code",
   "execution_count": 51,
   "metadata": {},
   "outputs": [
    {
     "name": "stdout",
     "output_type": "stream",
     "text": [
      "1 0.19656985802330093\n",
      "2 0.17633049432427847\n",
      "3 0.17129309752507438\n",
      "4 0.18101330791938888\n",
      "5 0.18578849921528165\n",
      "6 0.1856102350930465\n",
      "7 0.18614111394477714\n",
      "8 0.1965697642864153\n",
      "9 0.19383117087025045\n",
      "10 0.1919746649820274\n",
      "11 0.19073757243400666\n",
      "12 0.18932322343527128\n",
      "13 0.18622955469636326\n",
      "14 0.191179073165295\n",
      "15 0.19038296579569167\n"
     ]
    },
    {
     "data": {
      "image/png": "[encoded data removed]",
      "text/plain": [
       "<Figure size 432x288 with 1 Axes>"
      ]
     },
     "metadata": {
      "needs_background": "light"
     },
     "output_type": "display_data"
    },
    {
     "data": {
      "text/plain": [
       "8"
      ]
     },
     "execution_count": 51,
     "metadata": {},
     "output_type": "execute_result"
    }
   ],
   "source": [
    "k = best_k(X,15) #проверим на первых 15, повторять не советую, это нереально долго\n",
    "k"
   ]
  },
  {
   "cell_type": "code",
   "execution_count": null,
   "metadata": {},
   "outputs": [],
   "source": [
    "#Прим:обычно график был более равномерный в районе 10"
   ]
  },
  {
   "cell_type": "markdown",
   "metadata": {},
   "source": [
    "Как изменится качество на валидации, если:\n",
    "\n",
    "1. Используется косинусная метрика вместо евклидовой.\n",
    "2. К текстам применяется TfIdf векторизацию( sklearn.feature_extraction.text.TfidfVectorizer)\n",
    "\n",
    "Сравните модели, выберите лучшую."
   ]
  },
  {
   "cell_type": "code",
   "execution_count": 52,
   "metadata": {},
   "outputs": [
    {
     "name": "stdout",
     "output_type": "stream",
     "text": [
      "TRAIN: [    1     3     4 ... 11311 11312 11313] TEST: [    0     2     6 ... 11299 11304 11308]\n",
      "0.39660657476139977\n",
      "TRAIN: [    0     2     3 ... 11310 11312 11313] TEST: [    1     7    10 ... 11306 11309 11311]\n",
      "0.42137364094404667\n",
      "TRAIN: [    0     1     2 ... 11308 11309 11311] TEST: [    3     4     5 ... 11310 11312 11313]\n",
      "0.4128878281622912\n"
     ]
    }
   ],
   "source": [
    "#используем косинусную метрику и перейдем на работу с разреженными матрицами с помощью pairwise_distance т.к. с косинусной метрикой нам не нужно использовать стандартизацию\n",
    "my_clf2 = MyKNeighborsClassifier(n_neighbors = k, algorithm = 'brute', metric = 'cosine')\n",
    "for train_index, test_index in kfold.split(X):\n",
    "    print(\"TRAIN:\", train_index, \"TEST:\", test_index)\n",
    "    X_train, X_test = X[train_index], X[test_index]\n",
    "    y_train, y_test = target[train_index], target[test_index]\n",
    "    my_clf2.fit(X_train, y_train)\n",
    "    my_clf2_pred = my_clf2.predict(X_test)\n",
    "    print(accuracy_score(y_test, my_clf2_pred))"
   ]
  },
  {
   "cell_type": "code",
   "execution_count": 53,
   "metadata": {},
   "outputs": [],
   "source": [
    "#видим, что взлетела и скорость, и точность"
   ]
  },
  {
   "cell_type": "code",
   "execution_count": 60,
   "metadata": {},
   "outputs": [
    {
     "name": "stdout",
     "output_type": "stream",
     "text": [
      "TRAIN: [    0     1     3 ... 11310 11311 11313] TEST: [    2     8    12 ... 11307 11309 11312]\n",
      "0.6519088016967126\n",
      "TRAIN: [    2     4     5 ... 11309 11312 11313] TEST: [    0     1     3 ... 11308 11310 11311]\n",
      "0.6393529567753912\n",
      "TRAIN: [    0     1     2 ... 11310 11311 11312] TEST: [    4     5     9 ... 11298 11305 11313]\n",
      "0.6518164942985946\n"
     ]
    }
   ],
   "source": [
    "#используем Tfidf векторизацию вместе с косинусной метрикой, оставим больше фичей т.к. теперь можем себе позволить! (скорость работы гораздо выше благодаря разреженным матрицам)\n",
    "vectorizer = TfidfVectorizer(max_df = 0.15, min_df = 0.001)\n",
    "X2 = vectorizer.fit_transform(data)\n",
    "for train_index, test_index in kfold.split(X2):\n",
    "    print(\"TRAIN:\", train_index, \"TEST:\", test_index)\n",
    "    X_train, X_test = X2[train_index], X2[test_index]\n",
    "    y_train, y_test = target[train_index], target[test_index]\n",
    "    my_clf2.fit(X_train, y_train)\n",
    "    my_clf2_pred = my_clf2.predict(X_test)\n",
    "    print( accuracy_score(y_test, my_clf2_pred))"
   ]
  },
  {
   "cell_type": "code",
   "execution_count": 61,
   "metadata": {},
   "outputs": [],
   "source": [
    "#точность еще увеличилась"
   ]
  },
  {
   "cell_type": "code",
   "execution_count": 63,
   "metadata": {},
   "outputs": [
    {
     "name": "stdout",
     "output_type": "stream",
     "text": [
      "1 0.5793714501255559\n",
      "2 0.5448117149360071\n",
      "3 0.5776918257405049\n",
      "4 0.5989049047731666\n",
      "5 0.6099513514937301\n",
      "6 0.6156085131464576\n",
      "7 0.6255084640189558\n",
      "8 0.6273638919329942\n",
      "9 0.632490690286862\n",
      "10 0.6347008420103225\n",
      "11 0.6339933628660765\n",
      "12 0.6383241241530052\n",
      "13 0.6472508752447353\n",
      "14 0.6463667020710884\n",
      "15 0.6454837240427331\n"
     ]
    },
    {
     "data": {
      "image/png": "[encoded data removed]",
      "text/plain": [
       "<Figure size 432x288 with 1 Axes>"
      ]
     },
     "metadata": {
      "needs_background": "light"
     },
     "output_type": "display_data"
    }
   ],
   "source": [
    "k = best_k(X2, 15, my_metric = 'cosine' )# найдем лучший результат по соседям на кросс валидации"
   ]
  },
  {
   "cell_type": "markdown",
   "metadata": {},
   "source": [
    "Загрузим  теперь test  часть нашей выборки и преобразуем её аналогично с train частью. Не забудьте, что наборы слов в train и test части могут отличаться."
   ]
  },
  {
   "cell_type": "code",
   "execution_count": 64,
   "metadata": {},
   "outputs": [
    {
     "name": "stdout",
     "output_type": "stream",
     "text": [
      "TRAIN: [    1     2     3 ... 11311 11312 11313] TEST: [    0     7    16 ... 11307 11308 11310]\n",
      "0.6580063626723224\n",
      "TRAIN: [    0     1     2 ... 11308 11309 11310] TEST: [    3     4     5 ... 11311 11312 11313]\n",
      "0.6465128613099973\n",
      "TRAIN: [    0     3     4 ... 11311 11312 11313] TEST: [    1     2     6 ... 11300 11302 11309]\n",
      "0.6587112171837709\n"
     ]
    }
   ],
   "source": [
    "#посмотрим качество лучшей модели на кросс-валидации\n",
    "for train_index, test_index in kfold.split(X2):\n",
    "    print(\"TRAIN:\", train_index, \"TEST:\", test_index)\n",
    "    X_train, X_test = X2[train_index], X2[test_index]\n",
    "    y_train, y_test = target[train_index], target[test_index]\n",
    "    my_clf2.fit(X_train, y_train)\n",
    "    my_clf2_pred = my_clf2.predict(X_test)\n",
    "    print( accuracy_score(y_test, my_clf2_pred))"
   ]
  },
  {
   "cell_type": "code",
   "execution_count": 65,
   "metadata": {},
   "outputs": [],
   "source": [
    "newsgroups_test = fetch_20newsgroups(subset='test',remove=['headers','footers', 'quotes'])"
   ]
  },
  {
   "cell_type": "markdown",
   "metadata": {},
   "source": [
    "Оценим точность вашей лучшей модели на test части датасета. Отличается ли оно от кросс-валидации? Попробуйте сделать выводы, почему отличается качество."
   ]
  },
  {
   "cell_type": "code",
   "execution_count": 68,
   "metadata": {},
   "outputs": [],
   "source": [
    "my_clf2 = MyKNeighborsClassifier(n_neighbors = k, algorithm = 'brute',metric = 'cosine')\n",
    "X2 = vectorizer.fit_transform(data) #обучаем на трейне векторайзер\n",
    "my_clf2.fit(X2, target)\n",
    "data_test = newsgroups_test['data'] #загружаем тест\n",
    "target_test = newsgroups_test['target']\n",
    "X2_test = vectorizer.transform(data_test) \n",
    "# трансформируем тест так же как обучились на трейне, здесь может упасть качество модели т.к. тест может быть сдвинут \n",
    "#относительно трейна, например, слова вообще не встречающиеся в трейне могут быть важными признаками в тесте \n",
    "#или слова очень редко встречающиеся в трейне(->имеющие большую важность) могут встречаться в тесте чаще(->должны быть менее важными)\n",
    "#возможное решение - получить словарь из всего датасета(трейн+тест) и относительно него трансформировать"
   ]
  },
  {
   "cell_type": "code",
   "execution_count": 69,
   "metadata": {},
   "outputs": [
    {
     "name": "stdout",
     "output_type": "stream",
     "text": [
      "0.5876261285183219\n"
     ]
    }
   ],
   "source": [
    "my_clf2_pred = my_clf2.predict(X2_test)\n",
    "print( accuracy_score(target_test, my_clf2_pred))"
   ]
  },
  {
   "cell_type": "code",
   "execution_count": null,
   "metadata": {},
   "outputs": [],
   "source": []
  }
 ],
 "metadata": {
  "kernelspec": {
   "display_name": "Python 3",
   "language": "python",
   "name": "python3"
  },
  "language_info": {
   "codemirror_mode": {
    "name": "ipython",
    "version": 3
   },
   "file_extension": ".py",
   "mimetype": "text/x-python",
   "name": "python",
   "nbconvert_exporter": "python",
   "pygments_lexer": "ipython3",
   "version": "3.7.4"
  }
 },
 "nbformat": 4,
 "nbformat_minor": 2
}
