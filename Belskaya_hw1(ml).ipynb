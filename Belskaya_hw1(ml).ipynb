{
 "cells": [
  {
   "cell_type": "markdown",
   "metadata": {},
   "source": [
    "**Общая информация**\n",
    "\n",
    "**Срок сдачи:** 21 октября 2020, 08:30 \n",
    "\n",
    "**Штраф за опоздание:** по 1 баллу за 24 часа задержки. Через 5 дней домашнее задание сгорает.\n",
    "\n",
    "При отправлении ДЗ указывайте фамилию в названии файла\n",
    "Присылать ДЗ необходимо в виде ссылки на свой github репозиторий на почту ml1.sphere@mail.ru с указанием темы в следующем формате:\n",
    "\n",
    "[ML0220, Задание 1] Фамилия Имя.\n",
    "\n",
    "Используйте данный Ipython Notebook при оформлении домашнего задания."
   ]
  },
  {
   "cell_type": "markdown",
   "metadata": {},
   "source": [
    "\n",
    "**Штрафные баллы:**\n",
    "\n",
    "1. Отсутствие фамилии в имени скрипта (скрипт должен называться по аналогии со stroykova_hw1.ipynb) -0.5 баллов\n",
    "2. Все строчки должны быть выполнены. Нужно, чтобы output команды можно было увидеть уже в git'е. В противном случае -0.5 баллов\n"
   ]
  },
  {
   "cell_type": "code",
   "execution_count": 1,
   "metadata": {},
   "outputs": [],
   "source": [
    "import numpy as np\n",
    "import matplotlib.pyplot as plt\n",
    "\n",
    "import seaborn as sns\n",
    "from sklearn import datasets\n",
    "from sklearn.base import BaseEstimator\n",
    "from sklearn.datasets import fetch_mldata, fetch_20newsgroups\n",
    "\n",
    "from sklearn.model_selection import train_test_split\n",
    "from sklearn.neighbors import KNeighborsClassifier\n",
    "from sklearn.metrics import accuracy_score\n",
    "\n",
    "from sklearn.neighbors import KDTree\n",
    "from sklearn import preprocessing #стандартизация\n",
    "from scipy.spatial import distance #cdist\n",
    "from sklearn import feature_extraction #vectorizer\n",
    "from sklearn.model_selection import KFold\n",
    "import matplotlib.pyplot as plt\n",
    "from sklearn.metrics import pairwise_distances \n",
    "from sklearn.feature_extraction.text import TfidfVectorizer"
   ]
  },
  {
   "cell_type": "markdown",
   "metadata": {},
   "source": [
    "##### Задание 1 (1 балл)\n",
    "Реализовать KNN в классе MyKNeighborsClassifier (обязательное условие: точность не ниже sklearn реализации)\n",
    "Разберитесь самостоятельно, какая мера расстояния используется в KNeighborsClassifier дефолтно и реализуйте свой алгоритм именно с этой мерой. \n",
    "Для подсчета расстояний можно использовать функции [отсюда](https://docs.scipy.org/doc/scipy/reference/spatial.distance.html)"
   ]
  },
  {
   "cell_type": "code",
   "execution_count": 2,
   "metadata": {},
   "outputs": [],
   "source": [
    " \n",
    "class MyKNeighborsClassifier(BaseEstimator):\n",
    "    \n",
    "    def __init__(self, n_neighbors, algorithm = 'brute', metric = 'minkowski'):\n",
    "        self.n = n_neighbors\n",
    "        self.alg = algorithm\n",
    "        self.metric = metric\n",
    "    \n",
    "    def fit(self, X, y):\n",
    "        self.y_train = y\n",
    "        self.X_train = X\n",
    "        self.min_length = np.max(self.y_train)+1\n",
    "        if self.metric ==\"minkowski\":\n",
    "            self.scaler = preprocessing.StandardScaler().fit(self.X_train) \n",
    "            self.X_train_st = self.scaler.transform(self.X_train)       \n",
    "        \n",
    "    def predict(self, X):\n",
    "        self.X_test = X\n",
    "        self.y_pred = np.zeros(self.X_test.shape[0], dtype='int64')\n",
    "        if self.metric == \"minkowski\":\n",
    "            self.X_test_st = self.scaler.transform(self.X_test)\n",
    "            if self.alg == 'brute':\n",
    "                dist = distance.cdist(self.X_test_st, self.X_train_st, 'minkowski', p = 2.)\n",
    "                ind = np.argsort(dist, axis = 1)[:,:self.n]\n",
    "                self.y_pred = np.argmax(np.apply_along_axis(lambda x: np.bincount(x, minlength = self.min_length), 1, self.y_train[ind]), axis=1)\n",
    "            elif self.alg == 'kd_tree':\n",
    "                self.KDTree = KDTree(self.X_train_st)\n",
    "                dist, ind = self.KDTree.query(self.X_test_st, k = self.n)\n",
    "                self.y_pred = np.argmax(np.apply_along_axis(lambda x: np.bincount(x, minlength = self.min_length), 1, self.y_train[ind]), axis=1)\n",
    "        elif self.metric == \"cosine\":\n",
    "            dist = pairwise_distances(self.X_test, self.X_train, 'cosine')\n",
    "            ind = np.argsort(dist, axis = 1)[:,:self.n]\n",
    "            self.y_pred = np.argmax(np.apply_along_axis(lambda x: np.bincount(x, minlength = self.min_length), 1, self.y_train[ind]), axis=1)\n",
    "        \n",
    "        return self.y_pred.ravel()\n",
    "        \n",
    "    "
   ]
  },
  {
   "cell_type": "markdown",
   "metadata": {},
   "source": [
    "**IRIS**\n",
    "\n",
    "В библиотеке scikit-learn есть несколько датасетов из коробки. Один из них [Ирисы Фишера](https://ru.wikipedia.org/wiki/%D0%98%D1%80%D0%B8%D1%81%D1%8B_%D0%A4%D0%B8%D1%88%D0%B5%D1%80%D0%B0)"
   ]
  },
  {
   "cell_type": "code",
   "execution_count": 3,
   "metadata": {},
   "outputs": [],
   "source": [
    "iris = datasets.load_iris()"
   ]
  },
  {
   "cell_type": "code",
   "execution_count": 4,
   "metadata": {},
   "outputs": [],
   "source": [
    "X_train, X_test, y_train, y_test = train_test_split(iris.data, iris.target, test_size=0.1, stratify=iris.target)"
   ]
  },
  {
   "cell_type": "code",
   "execution_count": 5,
   "metadata": {},
   "outputs": [],
   "source": [
    "clf = KNeighborsClassifier(n_neighbors=2, algorithm='brute')\n",
    "my_clf = MyKNeighborsClassifier(n_neighbors=2, algorithm='brute')"
   ]
  },
  {
   "cell_type": "code",
   "execution_count": 6,
   "metadata": {},
   "outputs": [],
   "source": [
    "clf.fit(X_train, y_train)\n",
    "my_clf.fit(X_train, y_train)"
   ]
  },
  {
   "cell_type": "code",
   "execution_count": 7,
   "metadata": {},
   "outputs": [],
   "source": [
    "sklearn_pred = clf.predict(X_test)\n",
    "my_clf_pred = my_clf.predict(X_test)\n",
    "assert abs( accuracy_score(y_test, my_clf_pred) -  accuracy_score(y_test, sklearn_pred ) )<0.005, \"Score must be simillar\""
   ]
  },
  {
   "cell_type": "code",
   "execution_count": 8,
   "metadata": {},
   "outputs": [
    {
     "name": "stdout",
     "output_type": "stream",
     "text": [
      "0.9473333333333329 0.9466666666666664\n"
     ]
    }
   ],
   "source": [
    "#посмотрела, что в среднем точность на моем классификаторе и на sklearn не особо отличаются\n",
    "my_acc=0\n",
    "acc=0\n",
    "for i in range(100):\n",
    "    X_train, X_test, y_train, y_test = train_test_split(iris.data, iris.target, test_size=0.1, stratify=iris.target)\n",
    "    clf.fit(X_train, y_train)\n",
    "    my_clf.fit(X_train, y_train)\n",
    "    sklearn_pred = clf.predict(X_test)\n",
    "    my_clf_pred = my_clf.predict(X_test)\n",
    "    my_acc+=accuracy_score(y_test, my_clf_pred)\n",
    "    acc+=accuracy_score(y_test, sklearn_pred)\n",
    "print(my_acc/100.0,acc/100.0)"
   ]
  },
  {
   "cell_type": "markdown",
   "metadata": {},
   "source": [
    "**Задание 2 (0.5 балла)**\n",
    "\n",
    "Давайте попробуем добиться скорости работы на fit, predict сравнимой со sklearn для iris. Допускается замедление не более чем в 2 раза. \n",
    "Для этого используем numpy. "
   ]
  },
  {
   "cell_type": "code",
   "execution_count": 9,
   "metadata": {},
   "outputs": [
    {
     "name": "stdout",
     "output_type": "stream",
     "text": [
      "Wall time: 963 µs\n"
     ]
    },
    {
     "data": {
      "text/plain": [
       "KNeighborsClassifier(algorithm='brute', leaf_size=30, metric='minkowski',\n",
       "                     metric_params=None, n_jobs=None, n_neighbors=2, p=2,\n",
       "                     weights='uniform')"
      ]
     },
     "execution_count": 9,
     "metadata": {},
     "output_type": "execute_result"
    }
   ],
   "source": [
    "%time clf.fit(X_train, y_train)"
   ]
  },
  {
   "cell_type": "code",
   "execution_count": 10,
   "metadata": {},
   "outputs": [
    {
     "name": "stdout",
     "output_type": "stream",
     "text": [
      "Wall time: 1 ms\n"
     ]
    }
   ],
   "source": [
    "%time my_clf.fit(X_train, y_train)"
   ]
  },
  {
   "cell_type": "code",
   "execution_count": 11,
   "metadata": {},
   "outputs": [
    {
     "name": "stdout",
     "output_type": "stream",
     "text": [
      "Wall time: 3 ms\n"
     ]
    },
    {
     "data": {
      "text/plain": [
       "array([1, 2, 2, 1, 0, 2, 2, 1, 0, 1, 0, 1, 0, 2, 0])"
      ]
     },
     "execution_count": 11,
     "metadata": {},
     "output_type": "execute_result"
    }
   ],
   "source": [
    "%time clf.predict(X_test)"
   ]
  },
  {
   "cell_type": "code",
   "execution_count": 12,
   "metadata": {},
   "outputs": [
    {
     "name": "stdout",
     "output_type": "stream",
     "text": [
      "Wall time: 1 ms\n"
     ]
    },
    {
     "data": {
      "text/plain": [
       "array([1, 2, 2, 1, 0, 2, 2, 1, 0, 1, 0, 1, 0, 2, 0], dtype=int64)"
      ]
     },
     "execution_count": 12,
     "metadata": {},
     "output_type": "execute_result"
    }
   ],
   "source": [
    "%time my_clf.predict(X_test)"
   ]
  },
  {
   "cell_type": "markdown",
   "metadata": {},
   "source": [
    "###### Задание 3 (1 балл)\n",
    "Добавьте algorithm='kd_tree' в реализацию KNN (использовать KDTree из sklearn.neighbors). Необходимо добиться скорости работы на fit,  predict сравнимой со sklearn для iris. Допускается замедление не более чем в 2 раза. \n",
    "Для этого используем numpy. Точность не должна уступать значению KNN из sklearn. "
   ]
  },
  {
   "cell_type": "code",
   "execution_count": 13,
   "metadata": {},
   "outputs": [],
   "source": [
    "clf = KNeighborsClassifier(n_neighbors=2, algorithm='kd_tree')\n",
    "my_clf = MyKNeighborsClassifier(n_neighbors=2, algorithm='kd_tree')"
   ]
  },
  {
   "cell_type": "code",
   "execution_count": 14,
   "metadata": {},
   "outputs": [],
   "source": [
    "X_train, X_test, y_train, y_test = train_test_split(iris.data, iris.target, test_size=0.1, stratify=iris.target)"
   ]
  },
  {
   "cell_type": "code",
   "execution_count": 15,
   "metadata": {},
   "outputs": [
    {
     "name": "stdout",
     "output_type": "stream",
     "text": [
      "Wall time: 1 ms\n"
     ]
    },
    {
     "data": {
      "text/plain": [
       "KNeighborsClassifier(algorithm='kd_tree', leaf_size=30, metric='minkowski',\n",
       "                     metric_params=None, n_jobs=None, n_neighbors=2, p=2,\n",
       "                     weights='uniform')"
      ]
     },
     "execution_count": 15,
     "metadata": {},
     "output_type": "execute_result"
    }
   ],
   "source": [
    "%time clf.fit(X_train, y_train)"
   ]
  },
  {
   "cell_type": "code",
   "execution_count": 16,
   "metadata": {},
   "outputs": [
    {
     "name": "stdout",
     "output_type": "stream",
     "text": [
      "Wall time: 999 µs\n"
     ]
    }
   ],
   "source": [
    "%time my_clf.fit(X_train, y_train)"
   ]
  },
  {
   "cell_type": "code",
   "execution_count": 17,
   "metadata": {},
   "outputs": [
    {
     "name": "stdout",
     "output_type": "stream",
     "text": [
      "Wall time: 4.76 ms\n"
     ]
    },
    {
     "data": {
      "text/plain": [
       "array([1, 0, 0, 2, 1, 0, 1, 2, 1, 0, 1, 2, 0, 2, 2])"
      ]
     },
     "execution_count": 17,
     "metadata": {},
     "output_type": "execute_result"
    }
   ],
   "source": [
    "%time clf.predict(X_test)"
   ]
  },
  {
   "cell_type": "code",
   "execution_count": 18,
   "metadata": {},
   "outputs": [
    {
     "name": "stdout",
     "output_type": "stream",
     "text": [
      "Wall time: 1.99 ms\n"
     ]
    },
    {
     "data": {
      "text/plain": [
       "array([1, 0, 0, 2, 1, 0, 1, 2, 1, 0, 1, 2, 0, 2, 2], dtype=int64)"
      ]
     },
     "execution_count": 18,
     "metadata": {},
     "output_type": "execute_result"
    }
   ],
   "source": [
    "%time my_clf.predict(X_test)"
   ]
  },
  {
   "cell_type": "code",
   "execution_count": 19,
   "metadata": {},
   "outputs": [],
   "source": [
    "sklearn_pred = clf.predict(X_test)\n",
    "my_clf_pred = my_clf.predict(X_test)\n",
    "assert abs( accuracy_score(y_test, my_clf_pred) -  accuracy_score(y_test, sklearn_pred ) )<0.005, \"Score must be simillar\""
   ]
  },
  {
   "cell_type": "code",
   "execution_count": 21,
   "metadata": {},
   "outputs": [
    {
     "name": "stdout",
     "output_type": "stream",
     "text": [
      "0.9493333333333333 0.9486666666666665\n"
     ]
    }
   ],
   "source": [
    "#посмотрела, что в среднем точность на моем классификаторе и на sklearn не особо отличаются\n",
    "my_acc = 0\n",
    "acc = 0\n",
    "for i in range(100):\n",
    "    X_train, X_test, y_train, y_test = train_test_split(iris.data, iris.target, test_size = 0.1, stratify = iris.target)\n",
    "    clf.fit(X_train, y_train)\n",
    "    my_clf.fit(X_train, y_train)\n",
    "    sklearn_pred = clf.predict(X_test)\n",
    "    my_clf_pred = my_clf.predict(X_test)\n",
    "    my_acc += accuracy_score(y_test, my_clf_pred)\n",
    "    acc += accuracy_score(y_test, sklearn_pred)\n",
    "print(my_acc/100.0, acc/100.0)"
   ]
  },
  {
   "cell_type": "markdown",
   "metadata": {},
   "source": [
    "**Задание 4 (2.5 балла)**\n",
    "\n",
    "Рассмотрим новый датасет 20 newsgroups"
   ]
  },
  {
   "cell_type": "code",
   "execution_count": 22,
   "metadata": {},
   "outputs": [],
   "source": [
    "newsgroups = fetch_20newsgroups(subset='train',remove=['headers','footers', 'quotes'])"
   ]
  },
  {
   "cell_type": "code",
   "execution_count": 23,
   "metadata": {},
   "outputs": [],
   "source": [
    "data = newsgroups['data']\n",
    "target = newsgroups['target']"
   ]
  },
  {
   "cell_type": "markdown",
   "metadata": {},
   "source": [
    "Преобразуйте текстовые данные из data с помощью [CountVectorizer](https://scikit-learn.org/stable/modules/generated/sklearn.feature_extraction.text.CountVectorizer.html). Словарь можно ограничить по частотности."
   ]
  },
  {
   "cell_type": "code",
   "execution_count": 24,
   "metadata": {},
   "outputs": [
    {
     "data": {
      "text/plain": [
       "<11314x1309 sparse matrix of type '<class 'numpy.int64'>'\n",
       "\twith 408266 stored elements in Compressed Sparse Row format>"
      ]
     },
     "execution_count": 24,
     "metadata": {},
     "output_type": "execute_result"
    }
   ],
   "source": [
    "vectorizer = feature_extraction.text.CountVectorizer(max_df = 0.15, min_df = 0.01)\n",
    "X = vectorizer.fit_transform(data)\n",
    "X"
   ]
  },
  {
   "cell_type": "markdown",
   "metadata": {},
   "source": [
    "*Так мы получили векторное представление наших текстов. Значит можно приступать к задаче обучения модели*"
   ]
  },
  {
   "cell_type": "markdown",
   "metadata": {},
   "source": [
    "Реализуйте разбиение выборки для кросс-валидации на 3 фолдах. Разрешено использовать sklearn.cross_validation"
   ]
  },
  {
   "cell_type": "code",
   "execution_count": 25,
   "metadata": {},
   "outputs": [],
   "source": [
    "#разбиение выборки на 3 блока\n",
    "kfold = KFold(3,True)"
   ]
  },
  {
   "cell_type": "code",
   "execution_count": 26,
   "metadata": {},
   "outputs": [
    {
     "name": "stdout",
     "output_type": "stream",
     "text": [
      "TRAIN: [    0     1     4 ... 11309 11311 11312] TEST: [    2     3     5 ... 11305 11310 11313]\n",
      "TRAIN: [    2     3     4 ... 11309 11310 11313] TEST: [    0     1    12 ... 11308 11311 11312]\n",
      "TRAIN: [    0     1     2 ... 11311 11312 11313] TEST: [    4     7     8 ... 11301 11306 11309]\n"
     ]
    }
   ],
   "source": [
    "#проверим\n",
    "for train_index, test_index in kfold.split(X):\n",
    "    print(\"TRAIN:\", train_index, \"TEST:\", test_index)\n",
    "    X_train, X_test = X[train_index], X[test_index]\n",
    "    y_train, y_test = target[train_index], target[test_index]"
   ]
  },
  {
   "cell_type": "markdown",
   "metadata": {},
   "source": [
    "Напишите метод, позволяющий найти оптимальное количество ближайших соседей(дающее максимальную точность в среднем на валидации на 3 фолдах).\n",
    "Постройте график зависимости средней точности от количества соседей. Можно рассмотреть число соседей от 1 до 10."
   ]
  },
  {
   "cell_type": "code",
   "execution_count": 28,
   "metadata": {},
   "outputs": [],
   "source": [
    "#для быстроты посчитаем на кд_дереве, хотя работает все равно очень-очень медленно т.к. для стандартизации разреженную матрицу нужно приводить к массиву\n",
    "def best_k(X,n_max, my_metric = 'minkowski'):\n",
    "    neigbours = list(range(1, n_max + 1, 1))\n",
    "    accuracy = np.zeros(n_max)\n",
    "    i = 0\n",
    "    for k in neigbours:\n",
    "        my_clf = MyKNeighborsClassifier(n_neighbors = k, algorithm = 'kd_tree', metric = my_metric)\n",
    "        for train_index, test_index in kfold.split(X):\n",
    "            X_train, X_test = X[train_index], X[test_index]\n",
    "            y_train, y_test = target[train_index], target[test_index]\n",
    "            my_clf.fit(X_train.toarray(), y_train)\n",
    "            my_clf_pred = my_clf.predict(X_test.toarray())\n",
    "            accuracy[i] += accuracy_score(y_test, my_clf_pred)\n",
    "        accuracy[i] /= 3\n",
    "        print(k,accuracy[i])\n",
    "        i += 1\n",
    "    fig = plt.figure()\n",
    "    ax = fig.add_subplot(111)\n",
    "    x = np.arange(1,n_max+1)\n",
    "    y = accuracy\n",
    "    ax.plot(x,y)\n",
    "    plt.show()\n",
    "#выводим скор и лучшее кол-во соседей\n",
    "    return np.argmax(accuracy[1:])+2 \n",
    "#убираем из рассмотрения классификацию по одному соседу, потому что она переобучается и чувствительна к выбросам\n"
   ]
  },
  {
   "cell_type": "code",
   "execution_count": 29,
   "metadata": {},
   "outputs": [
    {
     "name": "stdout",
     "output_type": "stream",
     "text": [
      "1 0.16750102068245698\n",
      "2 0.15175083126103864\n",
      "3 0.14524864349520664\n",
      "4 0.14524958076100736\n",
      "5 0.15100551749631563\n",
      "6 0.15699783266656245\n",
      "7 0.15325326833957365\n",
      "8 0.1535031434020424\n",
      "9 0.1534967699945976\n",
      "10 0.14925095591739015\n",
      "11 0.14525033057364792\n",
      "12 0.14474851846394884\n",
      "13 0.14175076752696417\n",
      "14 0.13150064127726083\n",
      "15 0.13225026646466712\n"
     ]
    },
    {
     "data": {
      "image/png": "[encoded data removed]",
      "text/plain": [
       "<Figure size 432x288 with 1 Axes>"
      ]
     },
     "metadata": {
      "needs_background": "light"
     },
     "output_type": "display_data"
    },
    {
     "data": {
      "text/plain": [
       "6"
      ]
     },
     "execution_count": 29,
     "metadata": {},
     "output_type": "execute_result"
    }
   ],
   "source": [
    "k = best_k(X[:4000],15) #проверим на первых 15 соседях и обрежем Х, чтобы побыстрее,\n",
    "#но это все равно долго и упало качество,а если считать на всех, скор где то возле 0.19, но считает нереально долго\n",
    "k"
   ]
  },
  {
   "cell_type": "code",
   "execution_count": null,
   "metadata": {},
   "outputs": [],
   "source": [
    "#качество падает после 6-го соседа возможно из за того что обрезали выборку и не находится достаточное количество близких обьктов"
   ]
  },
  {
   "cell_type": "code",
   "execution_count": 30,
   "metadata": {
    "scrolled": true
   },
   "outputs": [
    {
     "name": "stdout",
     "output_type": "stream",
     "text": [
      "1 0.20249222475967973\n",
      "2 0.17385633266245845\n",
      "3 0.1775681492936129\n",
      "4 0.18667093825654454\n",
      "5 0.18251759745988036\n",
      "6 0.18402055124975172\n",
      "7 0.18958706933408098\n",
      "8 0.1830474217716478\n",
      "9 0.1874677017843472\n",
      "10 0.19365473461728497\n",
      "11 0.18614111394477717\n",
      "12 0.19047065665219276\n",
      "13 0.18569883988418245\n",
      "14 0.18808526382105853\n",
      "15 0.18994205091993846\n"
     ]
    },
    {
     "data": {
      "image/png": "[encoded data removed]",
      "text/plain": [
       "<Figure size 432x288 with 1 Axes>"
      ]
     },
     "metadata": {
      "needs_background": "light"
     },
     "output_type": "display_data"
    },
    {
     "data": {
      "text/plain": [
       "10"
      ]
     },
     "execution_count": 30,
     "metadata": {},
     "output_type": "execute_result"
    }
   ],
   "source": [
    "k = best_k(X,15) #проверим все-таки на всех обьектах на первых 15 соседях, нереально долго, повторять не советую\n",
    "k"
   ]
  },
  {
   "cell_type": "markdown",
   "metadata": {},
   "source": [
    "Как изменится качество на валидации, если:\n",
    "\n",
    "1. Используется косинусная метрика вместо евклидовой.\n",
    "2. К текстам применяется TfIdf векторизацию( sklearn.feature_extraction.text.TfidfVectorizer)\n",
    "\n",
    "Сравните модели, выберите лучшую."
   ]
  },
  {
   "cell_type": "code",
   "execution_count": 31,
   "metadata": {},
   "outputs": [
    {
     "name": "stdout",
     "output_type": "stream",
     "text": [
      "TRAIN: [    1     2     4 ... 11309 11310 11311] TEST: [    0     3     9 ... 11307 11312 11313]\n",
      "0.4178154825026511\n",
      "TRAIN: [    0     1     2 ... 11311 11312 11313] TEST: [    5     8    14 ... 11302 11303 11310]\n",
      "0.41766109785202865\n",
      "TRAIN: [    0     3     5 ... 11310 11312 11313] TEST: [    1     2     4 ... 11308 11309 11311]\n",
      "0.43595863166268894\n"
     ]
    }
   ],
   "source": [
    "#используем косинусную метрику и перейдем на работу с разреженными матрицами с помощью pairwise_distance т.к. с косинусной метрикой нам не нужно использовать стандартизацию\n",
    "my_clf2 = MyKNeighborsClassifier(n_neighbors = k, algorithm = 'brute', metric = 'cosine')\n",
    "for train_index, test_index in kfold.split(X):\n",
    "    print(\"TRAIN:\", train_index, \"TEST:\", test_index)\n",
    "    X_train, X_test = X[train_index], X[test_index]\n",
    "    y_train, y_test = target[train_index], target[test_index]\n",
    "    my_clf2.fit(X_train, y_train)\n",
    "    my_clf2_pred = my_clf2.predict(X_test)\n",
    "    print(accuracy_score(y_test, my_clf2_pred))"
   ]
  },
  {
   "cell_type": "code",
   "execution_count": 32,
   "metadata": {},
   "outputs": [],
   "source": [
    "#видим, что взлетела и скорость, и точность"
   ]
  },
  {
   "cell_type": "code",
   "execution_count": 33,
   "metadata": {},
   "outputs": [
    {
     "name": "stdout",
     "output_type": "stream",
     "text": [
      "TRAIN: [    0     1     5 ... 11309 11311 11312] TEST: [    2     3     4 ... 11307 11310 11313]\n",
      "0.6317603393425238\n",
      "TRAIN: [    0     2     3 ... 11310 11312 11313] TEST: [    1     5     7 ... 11301 11304 11311]\n",
      "0.6443914081145584\n",
      "TRAIN: [    1     2     3 ... 11310 11311 11313] TEST: [    0    13    15 ... 11308 11309 11312]\n",
      "0.6321930522407849\n"
     ]
    }
   ],
   "source": [
    "#используем Tfidf векторизацию вместе с косинусной метрикой, оставим больше фичей т.к. теперь можем себе позволить! (скорость работы гораздо выше благодаря разреженным матрицам)\n",
    "vectorizer = TfidfVectorizer(max_df = 0.15, min_df = 0.001)\n",
    "X2 = vectorizer.fit_transform(data)\n",
    "for train_index, test_index in kfold.split(X2):\n",
    "    print(\"TRAIN:\", train_index, \"TEST:\", test_index)\n",
    "    X_train, X_test = X2[train_index], X2[test_index]\n",
    "    y_train, y_test = target[train_index], target[test_index]\n",
    "    my_clf2.fit(X_train, y_train)\n",
    "    my_clf2_pred = my_clf2.predict(X_test)\n",
    "    print( accuracy_score(y_test, my_clf2_pred))"
   ]
  },
  {
   "cell_type": "code",
   "execution_count": 34,
   "metadata": {},
   "outputs": [],
   "source": [
    "#точность еще увеличилась"
   ]
  },
  {
   "cell_type": "code",
   "execution_count": 35,
   "metadata": {},
   "outputs": [
    {
     "name": "stdout",
     "output_type": "stream",
     "text": [
      "1 0.5829945916629101\n",
      "2 0.5500267431334684\n",
      "3 0.5766318490378706\n",
      "4 0.5967831469328494\n",
      "5 0.6064171662608328\n",
      "6 0.6214421110521506\n",
      "7 0.6215309501855005\n",
      "8 0.6306354967150377\n",
      "9 0.6368222952057613\n",
      "10 0.6399152374838059\n",
      "11 0.6434502194802308\n",
      "12 0.6377947919598873\n",
      "13 0.6465437710480318\n",
      "14 0.6491070530538586\n",
      "15 0.6454839349507258\n"
     ]
    },
    {
     "data": {
      "image/png": "[encoded data removed]",
      "text/plain": [
       "<Figure size 432x288 with 1 Axes>"
      ]
     },
     "metadata": {
      "needs_background": "light"
     },
     "output_type": "display_data"
    }
   ],
   "source": [
    "k = best_k(X2, 15, my_metric = 'cosine' )# найдем лучший результат по соседям на кросс валидации"
   ]
  },
  {
   "cell_type": "markdown",
   "metadata": {},
   "source": [
    "Загрузим  теперь test  часть нашей выборки и преобразуем её аналогично с train частью. Не забудьте, что наборы слов в train и test части могут отличаться."
   ]
  },
  {
   "cell_type": "code",
   "execution_count": 36,
   "metadata": {},
   "outputs": [
    {
     "name": "stdout",
     "output_type": "stream",
     "text": [
      "TRAIN: [    0     1     2 ... 11311 11312 11313] TEST: [    4    11    12 ... 11302 11303 11306]\n",
      "0.6484623541887593\n",
      "TRAIN: [    0     2     3 ... 11309 11310 11311] TEST: [    1     5     7 ... 11305 11312 11313]\n",
      "0.6372315035799523\n",
      "TRAIN: [    1     4     5 ... 11306 11312 11313] TEST: [    0     2     3 ... 11309 11310 11311]\n",
      "0.6295412357464863\n"
     ]
    }
   ],
   "source": [
    "#посмотрим качество лучшей модели на кросс-валидации\n",
    "for train_index, test_index in kfold.split(X2):\n",
    "    print(\"TRAIN:\", train_index, \"TEST:\", test_index)\n",
    "    X_train, X_test = X2[train_index], X2[test_index]\n",
    "    y_train, y_test = target[train_index], target[test_index]\n",
    "    my_clf2.fit(X_train, y_train)\n",
    "    my_clf2_pred = my_clf2.predict(X_test)\n",
    "    print( accuracy_score(y_test, my_clf2_pred))"
   ]
  },
  {
   "cell_type": "code",
   "execution_count": 37,
   "metadata": {},
   "outputs": [],
   "source": [
    "newsgroups_test = fetch_20newsgroups(subset='test',remove=['headers','footers', 'quotes'])"
   ]
  },
  {
   "cell_type": "markdown",
   "metadata": {},
   "source": [
    "Оценим точность вашей лучшей модели на test части датасета. Отличается ли оно от кросс-валидации? Попробуйте сделать выводы, почему отличается качество."
   ]
  },
  {
   "cell_type": "code",
   "execution_count": 38,
   "metadata": {},
   "outputs": [],
   "source": [
    "my_clf2 = MyKNeighborsClassifier(n_neighbors = k, algorithm = 'brute',metric = 'cosine')\n",
    "X2 = vectorizer.fit_transform(data) #обучаем на трейне векторайзер\n",
    "my_clf2.fit(X2, target)\n",
    "data_test = newsgroups_test['data'] #загружаем тест\n",
    "target_test = newsgroups_test['target']\n",
    "X2_test = vectorizer.transform(data_test) \n",
    "# трансформируем тест так же как обучились на трейне, здесь может упасть качество модели т.к. тест может быть сдвинут \n",
    "#относительно трейна, например, слова вообще не встречающиеся в трейне могут быть важными признаками в тесте \n",
    "#или слова очень редко встречающиеся в трейне(->имеющие большую важность) могут встречаться в тесте чаще(->должны быть менее важными)\n",
    "#возможное решение - получить словарь из всего датасета(трейн+тест) и относительно него трансформировать"
   ]
  },
  {
   "cell_type": "code",
   "execution_count": 39,
   "metadata": {},
   "outputs": [
    {
     "name": "stdout",
     "output_type": "stream",
     "text": [
      "0.5905469994689325\n"
     ]
    }
   ],
   "source": [
    "my_clf2_pred = my_clf2.predict(X2_test)\n",
    "print( accuracy_score(target_test, my_clf2_pred))"
   ]
  },
  {
   "cell_type": "code",
   "execution_count": 40,
   "metadata": {},
   "outputs": [
    {
     "name": "stdout",
     "output_type": "stream",
     "text": [
      "0.5918746680828465\n"
     ]
    }
   ],
   "source": [
    "data_all = data + data_test\n",
    "vectorizer.fit(data_all) #обучаем на всех текстах векторайзер\n",
    "X2 = vectorizer.transform(data) \n",
    "my_clf2.fit(X2, target)\n",
    "X2_test = vectorizer.transform(data_test) \n",
    "my_clf2_pred = my_clf2.predict(X2_test)\n",
    "print( accuracy_score(target_test, my_clf2_pred))"
   ]
  },
  {
   "cell_type": "code",
   "execution_count": 41,
   "metadata": {},
   "outputs": [],
   "source": [
    "#не сильно помогло\n",
    "#возможно тест как-то отличается от трейна, возможно все документы менее похожие на трейн, чем разброс внутри трейна"
   ]
  },
  {
   "cell_type": "code",
   "execution_count": 46,
   "metadata": {},
   "outputs": [
    {
     "name": "stdout",
     "output_type": "stream",
     "text": [
      "0.6171003717472119\n"
     ]
    }
   ],
   "source": [
    "#попробуем не ограничивать снизу\n",
    "vectorizer = TfidfVectorizer(max_df = 0.15)\n",
    "data_all = data + data_test\n",
    "vectorizer.fit(data_all) #обучаем на всех текстах векторайзер\n",
    "X2 = vectorizer.transform(data) \n",
    "my_clf2.fit(X2, target)\n",
    "X2_test = vectorizer.transform(data_test) \n",
    "my_clf2_pred = my_clf2.predict(X2_test)\n",
    "print( accuracy_score(target_test, my_clf2_pred))"
   ]
  }
 ],
 "metadata": {
  "kernelspec": {
   "display_name": "Python 3",
   "language": "python",
   "name": "python3"
  },
  "language_info": {
   "codemirror_mode": {
    "name": "ipython",
    "version": 3
   },
   "file_extension": ".py",
   "mimetype": "text/x-python",
   "name": "python",
   "nbconvert_exporter": "python",
   "pygments_lexer": "ipython3",
   "version": "3.7.4"
  }
 },
 "nbformat": 4,
 "nbformat_minor": 2
}
